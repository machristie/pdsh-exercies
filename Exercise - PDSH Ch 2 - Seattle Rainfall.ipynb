{
 "cells": [
  {
   "cell_type": "markdown",
   "metadata": {},
   "source": [
    "# Rain in Seattle, 2014\n",
    "\n",
    "Load the PRCP column from data/Seattle2014.csv dataset to get the tenths of mms of rain in Seattle, 2014. Convert the mms to inches (254 1/10 mms in 1 inch).\n",
    "\n",
    "For calculating summer days, note that the first day of summer is the 172nd day of the year and there are 90 days in summer.\n",
    "\n",
    "Answer the following questions:\n",
    "- how many days did it rain?\n",
    "- how many days did it not rain?\n",
    "- how many days did it rain over half an inch?\n",
    "- what is the average precipitation on rainy days?\n",
    "- what's the median precipitation on summer days?\n",
    "- what's the median precipitation on just rainy days in the summer?\n",
    "- what's the median precipitation on non-summer rainy days?\n",
    "\n",
    "Display a histogram of the amount of rain on rainy days using 10 bins."
   ]
  }
 ],
 "metadata": {
  "kernelspec": {
   "display_name": "Python 3",
   "language": "python",
   "name": "python3"
  },
  "language_info": {
   "codemirror_mode": {
    "name": "ipython",
    "version": 3
   },
   "file_extension": ".py",
   "mimetype": "text/x-python",
   "name": "python",
   "nbconvert_exporter": "python",
   "pygments_lexer": "ipython3",
   "version": "3.6.4"
  }
 },
 "nbformat": 4,
 "nbformat_minor": 2
}
