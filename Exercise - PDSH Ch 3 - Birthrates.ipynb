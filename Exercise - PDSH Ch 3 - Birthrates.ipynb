{
 "cells": [
  {
   "cell_type": "markdown",
   "metadata": {},
   "source": [
    "# Birthrate Data\n",
    "\n",
    "Load the birthrate data file, `./data/births.csv` and then create the following:\n",
    "\n",
    "- pivot table with births by gender by decade\n",
    "- plot the total births per year by gender (use Seaborn styles)\n",
    "- use sigma clipping to remove outliers in the data (5 sigmas). Hint: use quartiles to estimate mean and sigma.\n",
    "- convert the 'day' column to an int and then assign a datetime index\n",
    "- add a dayofweek column and then plot average births by dayofweek and decade. Make sure to give the x axis meaningful labels\n",
    "- create a pivot table of average births per day of year and then plot. Hint: create a dummy index for the pivot table using year 2012 (or any non-leap year) and month and day."
   ]
  }
 ],
 "metadata": {
  "kernelspec": {
   "display_name": "Python 3",
   "language": "python",
   "name": "python3"
  },
  "language_info": {
   "codemirror_mode": {
    "name": "ipython",
    "version": 3
   },
   "file_extension": ".py",
   "mimetype": "text/x-python",
   "name": "python",
   "nbconvert_exporter": "python",
   "pygments_lexer": "ipython3",
   "version": "3.6.4"
  }
 },
 "nbformat": 4,
 "nbformat_minor": 2
}
