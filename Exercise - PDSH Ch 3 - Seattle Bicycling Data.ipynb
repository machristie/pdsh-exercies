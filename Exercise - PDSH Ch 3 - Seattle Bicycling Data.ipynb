{
 "cells": [
  {
   "cell_type": "markdown",
   "metadata": {},
   "source": [
    "# Seattle Bicycling Data\n",
    "\n",
    "Load the Fremont Bridge bicycling data from `./data/FremontBridge.csv` as a time series, with the _Date_ column as the index. Then:\n",
    "\n",
    "- Relabel the columns 'East' and 'West' and add a 'Total' column that sums the 'East' and 'West' columns\n",
    "- Resample the data by week and plot\n",
    "- Resample the data by day and do a rolling 30 day mean plot\n",
    "- Plot a 50 day rolling window using a Gaussian window function with a 10 day width of the Gaussian\n",
    "- Plot the mean counts by hour\n",
    "- Plot the mean counts by day of the week\n",
    "- Plot, side by side, mean hourly counts for _weekdays_ and _weekends_"
   ]
  }
 ],
 "metadata": {
  "kernelspec": {
   "display_name": "Python 3",
   "language": "python",
   "name": "python3"
  },
  "language_info": {
   "codemirror_mode": {
    "name": "ipython",
    "version": 3
   },
   "file_extension": ".py",
   "mimetype": "text/x-python",
   "name": "python",
   "nbconvert_exporter": "python",
   "pygments_lexer": "ipython3",
   "version": "3.6.4"
  }
 },
 "nbformat": 4,
 "nbformat_minor": 2
}
